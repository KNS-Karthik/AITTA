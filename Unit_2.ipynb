{
  "nbformat": 4,
  "nbformat_minor": 0,
  "metadata": {
    "colab": {
      "provenance": [],
      "authorship_tag": "ABX9TyP4IkxC1iNfz4VOOes208r2",
      "include_colab_link": true
    },
    "kernelspec": {
      "name": "python3",
      "display_name": "Python 3"
    },
    "language_info": {
      "name": "python"
    }
  },
  "cells": [
    {
      "cell_type": "markdown",
      "metadata": {
        "id": "view-in-github",
        "colab_type": "text"
      },
      "source": [
        "<a href=\"https://colab.research.google.com/github/KNS-Karthik/AITTA/blob/main/Unit_2.ipynb\" target=\"_parent\"><img src=\"https://colab.research.google.com/assets/colab-badge.svg\" alt=\"Open In Colab\"/></a>"
      ]
    },
    {
      "cell_type": "code",
      "source": [
        "!git clone https://github.com/KNS-Karthik/AITTA.git"
      ],
      "metadata": {
        "colab": {
          "base_uri": "https://localhost:8080/"
        },
        "id": "9xVKr2z6E6jo",
        "outputId": "c928614b-3c1c-44bc-962d-de49423dcaf2"
      },
      "execution_count": 2,
      "outputs": [
        {
          "output_type": "stream",
          "name": "stdout",
          "text": [
            "Cloning into 'AITTA'...\n",
            "remote: Enumerating objects: 17, done.\u001b[K\n",
            "remote: Counting objects: 100% (17/17), done.\u001b[K\n",
            "remote: Compressing objects: 100% (15/15), done.\u001b[K\n",
            "remote: Total 17 (delta 2), reused 0 (delta 0), pack-reused 0 (from 0)\u001b[K\n",
            "Receiving objects: 100% (17/17), 544.49 KiB | 6.19 MiB/s, done.\n",
            "Resolving deltas: 100% (2/2), done.\n"
          ]
        }
      ]
    },
    {
      "cell_type": "markdown",
      "source": [
        "# 2(a) App for Speech recognition and Synthesis through APIs"
      ],
      "metadata": {
        "id": "mN5iVbBd4wTZ"
      }
    },
    {
      "cell_type": "code",
      "execution_count": 1,
      "metadata": {
        "colab": {
          "base_uri": "https://localhost:8080/"
        },
        "id": "uB03MmTh4We9",
        "outputId": "fb8456c6-9255-4621-cb4a-bc400a9686e6"
      },
      "outputs": [
        {
          "output_type": "stream",
          "name": "stdout",
          "text": [
            "Collecting SpeechRecognition\n",
            "  Downloading SpeechRecognition-3.14.1-py3-none-any.whl.metadata (31 kB)\n",
            "Requirement already satisfied: typing-extensions in /usr/local/lib/python3.11/dist-packages (from SpeechRecognition) (4.12.2)\n",
            "Downloading SpeechRecognition-3.14.1-py3-none-any.whl (32.9 MB)\n",
            "\u001b[2K   \u001b[90m━━━━━━━━━━━━━━━━━━━━━━━━━━━━━━━━━━━━━━━━\u001b[0m \u001b[32m32.9/32.9 MB\u001b[0m \u001b[31m47.6 MB/s\u001b[0m eta \u001b[36m0:00:00\u001b[0m\n",
            "\u001b[?25hInstalling collected packages: SpeechRecognition\n",
            "Successfully installed SpeechRecognition-3.14.1\n",
            "Collecting pocketsphinx\n",
            "  Downloading pocketsphinx-5.0.4-cp311-cp311-manylinux_2_17_x86_64.manylinux2014_x86_64.whl.metadata (6.8 kB)\n",
            "Collecting sounddevice (from pocketsphinx)\n",
            "  Downloading sounddevice-0.5.1-py3-none-any.whl.metadata (1.4 kB)\n",
            "Requirement already satisfied: CFFI>=1.0 in /usr/local/lib/python3.11/dist-packages (from sounddevice->pocketsphinx) (1.17.1)\n",
            "Requirement already satisfied: pycparser in /usr/local/lib/python3.11/dist-packages (from CFFI>=1.0->sounddevice->pocketsphinx) (2.22)\n",
            "Downloading pocketsphinx-5.0.4-cp311-cp311-manylinux_2_17_x86_64.manylinux2014_x86_64.whl (29.2 MB)\n",
            "\u001b[2K   \u001b[90m━━━━━━━━━━━━━━━━━━━━━━━━━━━━━━━━━━━━━━━━\u001b[0m \u001b[32m29.2/29.2 MB\u001b[0m \u001b[31m22.9 MB/s\u001b[0m eta \u001b[36m0:00:00\u001b[0m\n",
            "\u001b[?25hDownloading sounddevice-0.5.1-py3-none-any.whl (32 kB)\n",
            "Installing collected packages: sounddevice, pocketsphinx\n",
            "Successfully installed pocketsphinx-5.0.4 sounddevice-0.5.1\n",
            "Collecting gTTS\n",
            "  Downloading gTTS-2.5.4-py3-none-any.whl.metadata (4.1 kB)\n",
            "Requirement already satisfied: requests<3,>=2.27 in /usr/local/lib/python3.11/dist-packages (from gTTS) (2.32.3)\n",
            "Requirement already satisfied: click<8.2,>=7.1 in /usr/local/lib/python3.11/dist-packages (from gTTS) (8.1.8)\n",
            "Requirement already satisfied: charset-normalizer<4,>=2 in /usr/local/lib/python3.11/dist-packages (from requests<3,>=2.27->gTTS) (3.4.1)\n",
            "Requirement already satisfied: idna<4,>=2.5 in /usr/local/lib/python3.11/dist-packages (from requests<3,>=2.27->gTTS) (3.10)\n",
            "Requirement already satisfied: urllib3<3,>=1.21.1 in /usr/local/lib/python3.11/dist-packages (from requests<3,>=2.27->gTTS) (2.3.0)\n",
            "Requirement already satisfied: certifi>=2017.4.17 in /usr/local/lib/python3.11/dist-packages (from requests<3,>=2.27->gTTS) (2025.1.31)\n",
            "Downloading gTTS-2.5.4-py3-none-any.whl (29 kB)\n",
            "Installing collected packages: gTTS\n",
            "Successfully installed gTTS-2.5.4\n"
          ]
        }
      ],
      "source": [
        "# Libraries required Speech recognition and Synthesis\n",
        "!pip install SpeechRecognition\n",
        "!pip install pocketsphinx\n",
        "!pip install gTTS"
      ]
    },
    {
      "cell_type": "code",
      "source": [
        "import speech_recognition as sr\n",
        "# Initialize the recognizer\n",
        "r = sr.Recognizer()\n",
        "# Load your audio file\n",
        "with sr.AudioFile(\"/content/AITTA/Dataset/Malevoice.wav\") as source:\n",
        "    audio = r.record(source) # read the entire audio file\n",
        "# Recognize speech using Sphinx\n",
        "try:\n",
        "    print(\"Sphinx thinks you said:\")\n",
        "    print(r.recognize_sphinx(audio))\n",
        "except sr.UnknownValueError:\n",
        "    print(\"Sphinx could not understand audio\")\n",
        "except sr.RequestError as e:\n",
        "    print(f\"Sphinx error; {e}\")"
      ],
      "metadata": {
        "colab": {
          "base_uri": "https://localhost:8080/"
        },
        "id": "3DX1kVic46mx",
        "outputId": "dad211f4-2f7d-4b76-e9e6-1e237f7b82e0"
      },
      "execution_count": 3,
      "outputs": [
        {
          "output_type": "stream",
          "name": "stdout",
          "text": [
            "Sphinx thinks you said:\n",
            "what if somebody did that the break it be careful that you keep adequate coverage but look for places that they might it be that taking longer to get the word away then the bankers expected hiring the lifer want company they went hurt bad and retirement\n"
          ]
        }
      ]
    },
    {
      "cell_type": "code",
      "source": [
        "from gtts import gTTS\n",
        "import os # Removed the extra space before import os\n",
        "text_to_say = \"Hello, this is a simple text to speech conversion demonstration\"\n",
        "tts = gTTS(text=text_to_say, lang='en')\n",
        "tts.save(\"output.mp3\")\n",
        "os.system(\"mpg321 output.mp3\")"
      ],
      "metadata": {
        "colab": {
          "base_uri": "https://localhost:8080/"
        },
        "id": "RFyud-q77W6O",
        "outputId": "eee9a28e-571f-4115-87ad-fe11f487cd87"
      },
      "execution_count": 4,
      "outputs": [
        {
          "output_type": "execute_result",
          "data": {
            "text/plain": [
              "32512"
            ]
          },
          "metadata": {},
          "execution_count": 4
        }
      ]
    },
    {
      "cell_type": "markdown",
      "source": [
        "# 2(b) Building a Chatbot"
      ],
      "metadata": {
        "id": "VVabu_Im8WeK"
      }
    },
    {
      "cell_type": "code",
      "source": [
        "import pandas as pd\n",
        "import nltk\n",
        "from nltk.corpus import stopwords\n",
        "from nltk.tokenize import word_tokenize\n",
        "# Download NLTK stopwords (if not already downloaded)\n",
        "nltk.download('stopwords')\n",
        "# Download the 'punkt_tab' resource\n",
        "nltk.download('punkt_tab') # Download 'punkt_tab' resource\n",
        "# Load the dataset into a DataFrame.\n",
        "df = pd.read_csv('/content/AITTA/Dataset/electronics_faq_dataset.csv')\n",
        "# Define a set of stopwords to be removed during text preprocessing\n",
        "stop_words = set(stopwords.words('english'))\n",
        "\n",
        "def preprocess_text(text):\n",
        "    # Tokenize the text\n",
        "    words = word_tokenize(text)\n",
        "    # Convert text to lowercase and remove stopwords\n",
        "    words = [word.lower() for word in words if word.isalnum() and word.lower() not in stop_words]\n",
        "    # Join the remaining words to form preprocessed text\n",
        "    preprocessed_text = ' '.join(words)\n",
        "    return preprocessed_text\n",
        "\n",
        "def find_best_match(user_input):\n",
        "    # Preprocess user input for better keyword matching.\n",
        "    user_input = preprocess_text(user_input)\n",
        "    # Initialize variables to keep track of the best match.\n",
        "    best_match_score = 0\n",
        "    best_answer = \"Sorry, I couldn't find an answer to your question. Can you please specify or ask in a different way?\"\n",
        "    # Loop through each row in the dataset.\n",
        "    for _, row in df.iterrows():\n",
        "        # Preprocess keywords for better matching.\n",
        "        keywords = preprocess_text(row['Keyword'])\n",
        "        # Split keywords into a list of words.\n",
        "        keyword_list = keywords.split()\n",
        "        # Calculate the match score as the number of overlapping words between user input and keywords.\n",
        "        match_score = len(set(user_input.split()) & set(keyword_list))\n",
        "        # If the current row's match score is higher than the best one we've seen so far, update best_match_score and best_answer.\n",
        "        if match_score > best_match_score:\n",
        "            best_match_score = match_score\n",
        "            best_answer = f\"FAQ: {row['FAQ']}\\nAnswer: {row['Answer']}\"\n",
        "    # Return the best answer found (or the default answer if no match was found).\n",
        "    return best_answer\n",
        "\n",
        "# Start the chatbot conversation loop.\n",
        "while True:\n",
        "    # Ask the user to type their question.\n",
        "    user_question = input(\"Hello! How can I help you? Please type your question or type 'quit' to exit: \")\n",
        "    # Check if the user wants to quit the chat.\n",
        "    if user_question.lower() == 'quit':\n",
        "        print(\"Thank you for chatting with us. Have a great day!\")\n",
        "        break  # Exit the chat loop.\n",
        "    # Find the best response for the user's question and print it.\n",
        "    response = find_best_match(user_question)\n",
        "    print(response)"
      ],
      "metadata": {
        "colab": {
          "base_uri": "https://localhost:8080/"
        },
        "id": "h0E0uhV58QbR",
        "outputId": "15cccf30-7cbb-4894-8b0c-fc834b9f2de8"
      },
      "execution_count": 5,
      "outputs": [
        {
          "output_type": "stream",
          "name": "stderr",
          "text": [
            "[nltk_data] Downloading package stopwords to /root/nltk_data...\n",
            "[nltk_data]   Unzipping corpora/stopwords.zip.\n",
            "[nltk_data] Downloading package punkt_tab to /root/nltk_data...\n",
            "[nltk_data]   Unzipping tokenizers/punkt_tab.zip.\n"
          ]
        },
        {
          "output_type": "stream",
          "name": "stdout",
          "text": [
            "Hello! How can I help you? Please type your question or type 'quit' to exit: quit\n",
            "Thank you for chatting with us. Have a great day!\n"
          ]
        }
      ]
    },
    {
      "cell_type": "markdown",
      "source": [
        "# 2(c) Build a virtual assistant"
      ],
      "metadata": {
        "id": "9xGZ3UfW9WHm"
      }
    },
    {
      "cell_type": "code",
      "source": [
        "# Library to be install\n",
        "!pip install wikipedia"
      ],
      "metadata": {
        "colab": {
          "base_uri": "https://localhost:8080/"
        },
        "id": "FXPiVx-j8euE",
        "outputId": "ca6964e2-ad56-48bc-cb6a-512748c11651"
      },
      "execution_count": 6,
      "outputs": [
        {
          "output_type": "stream",
          "name": "stdout",
          "text": [
            "Collecting wikipedia\n",
            "  Downloading wikipedia-1.4.0.tar.gz (27 kB)\n",
            "  Preparing metadata (setup.py) ... \u001b[?25l\u001b[?25hdone\n",
            "Requirement already satisfied: beautifulsoup4 in /usr/local/lib/python3.11/dist-packages (from wikipedia) (4.13.3)\n",
            "Requirement already satisfied: requests<3.0.0,>=2.0.0 in /usr/local/lib/python3.11/dist-packages (from wikipedia) (2.32.3)\n",
            "Requirement already satisfied: charset-normalizer<4,>=2 in /usr/local/lib/python3.11/dist-packages (from requests<3.0.0,>=2.0.0->wikipedia) (3.4.1)\n",
            "Requirement already satisfied: idna<4,>=2.5 in /usr/local/lib/python3.11/dist-packages (from requests<3.0.0,>=2.0.0->wikipedia) (3.10)\n",
            "Requirement already satisfied: urllib3<3,>=1.21.1 in /usr/local/lib/python3.11/dist-packages (from requests<3.0.0,>=2.0.0->wikipedia) (2.3.0)\n",
            "Requirement already satisfied: certifi>=2017.4.17 in /usr/local/lib/python3.11/dist-packages (from requests<3.0.0,>=2.0.0->wikipedia) (2025.1.31)\n",
            "Requirement already satisfied: soupsieve>1.2 in /usr/local/lib/python3.11/dist-packages (from beautifulsoup4->wikipedia) (2.6)\n",
            "Requirement already satisfied: typing-extensions>=4.0.0 in /usr/local/lib/python3.11/dist-packages (from beautifulsoup4->wikipedia) (4.12.2)\n",
            "Building wheels for collected packages: wikipedia\n",
            "  Building wheel for wikipedia (setup.py) ... \u001b[?25l\u001b[?25hdone\n",
            "  Created wheel for wikipedia: filename=wikipedia-1.4.0-py3-none-any.whl size=11679 sha256=4ce128852785ecd30f0b4ebf30f54ed3e732ea4960bb0f2f5ba0b0eafcf09cc9\n",
            "  Stored in directory: /root/.cache/pip/wheels/8f/ab/cb/45ccc40522d3a1c41e1d2ad53b8f33a62f394011ec38cd71c6\n",
            "Successfully built wikipedia\n",
            "Installing collected packages: wikipedia\n",
            "Successfully installed wikipedia-1.4.0\n"
          ]
        }
      ]
    },
    {
      "cell_type": "code",
      "source": [
        "import wikipedia\n",
        "\n",
        "def get_wikipedia_summary(query):\n",
        "    try:\n",
        "        # Set the language for Wikipedia (e.g., 'en' for English)\n",
        "        wikipedia.set_lang('en')\n",
        "        # Get the summary of the Wikipedia page\n",
        "        summary = wikipedia.summary(query)\n",
        "        return summary\n",
        "    except wikipedia.exceptions.PageError:\n",
        "        return \"Sorry, I couldn't find a Wikipedia page for that query.\"\n",
        "    except wikipedia.exceptions.DisambiguationError as e:\n",
        "        options = e.options[:5]  # Limit to the first 5 options for simplicity\n",
        "        return f\"Multiple options found: {', '.join(options)}. Please specify your query.\"\n",
        "\n",
        "if __name__ == \"__main__\":\n",
        "    print(\"Hello! I'm your virtual assistant.\")\n",
        "    while True:\n",
        "        user_input = input(\"Ask me about a topic, and I'll provide you with a summary. Type 'quit' to exit: \")\n",
        "        if user_input.lower() == 'quit':\n",
        "            print(\"Goodbye!\")\n",
        "            break\n",
        "        response = get_wikipedia_summary(user_input)\n",
        "        print(response)"
      ],
      "metadata": {
        "colab": {
          "base_uri": "https://localhost:8080/"
        },
        "id": "jycsF2Ca9awd",
        "outputId": "c45c8016-0dbd-479c-a6b2-a6a4fdf09a11"
      },
      "execution_count": 7,
      "outputs": [
        {
          "output_type": "stream",
          "name": "stdout",
          "text": [
            "Hello! I'm your virtual assistant.\n",
            "Ask me about a topic, and I'll provide you with a summary. Type 'quit' to exit: quit\n",
            "Goodbye!\n"
          ]
        }
      ]
    }
  ]
}