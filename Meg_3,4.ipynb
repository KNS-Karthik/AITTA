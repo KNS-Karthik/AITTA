{
  "nbformat": 4,
  "nbformat_minor": 0,
  "metadata": {
    "colab": {
      "provenance": [],
      "authorship_tag": "ABX9TyMy3nwvE+3qiFPFYA9X88Bd",
      "include_colab_link": true
    },
    "kernelspec": {
      "name": "python3",
      "display_name": "Python 3"
    },
    "language_info": {
      "name": "python"
    }
  },
  "cells": [
    {
      "cell_type": "markdown",
      "metadata": {
        "id": "view-in-github",
        "colab_type": "text"
      },
      "source": [
        "<a href=\"https://colab.research.google.com/github/KNS-Karthik/AITTA/blob/main/Meg_3%2C4.ipynb\" target=\"_parent\"><img src=\"https://colab.research.google.com/assets/colab-badge.svg\" alt=\"Open In Colab\"/></a>"
      ]
    },
    {
      "cell_type": "code",
      "execution_count": 1,
      "metadata": {
        "colab": {
          "base_uri": "https://localhost:8080/"
        },
        "id": "02ev8J77Qlnm",
        "outputId": "ad48fa48-5f6f-4d1e-c321-2d2045a4e6ff"
      },
      "outputs": [
        {
          "output_type": "stream",
          "name": "stdout",
          "text": [
            "Cloning into 'AITTA'...\n",
            "remote: Enumerating objects: 26, done.\u001b[K\n",
            "remote: Counting objects: 100% (26/26), done.\u001b[K\n",
            "remote: Compressing objects: 100% (24/24), done.\u001b[K\n",
            "remote: Total 26 (delta 7), reused 0 (delta 0), pack-reused 0 (from 0)\u001b[K\n",
            "Receiving objects: 100% (26/26), 579.41 KiB | 2.53 MiB/s, done.\n",
            "Resolving deltas: 100% (7/7), done.\n"
          ]
        }
      ],
      "source": [
        "!git clone https://github.com/KNS-Karthik/AITTA.git"
      ]
    },
    {
      "cell_type": "markdown",
      "source": [
        "#Data label"
      ],
      "metadata": {
        "id": "6M2AYBSlU8qT"
      }
    },
    {
      "cell_type": "code",
      "source": [
        "!pip install imageai --no-deps"
      ],
      "metadata": {
        "colab": {
          "base_uri": "https://localhost:8080/"
        },
        "id": "r32iBlziVw7n",
        "outputId": "087028f2-c1a4-456a-d356-18e2482aa00c"
      },
      "execution_count": 8,
      "outputs": [
        {
          "output_type": "stream",
          "name": "stdout",
          "text": [
            "Collecting imageai\n",
            "  Downloading imageai-3.0.3-py3-none-any.whl.metadata (340 bytes)\n",
            "Downloading imageai-3.0.3-py3-none-any.whl (69 kB)\n",
            "\u001b[2K   \u001b[90m━━━━━━━━━━━━━━━━━━━━━━━━━━━━━━━━━━━━━━━━\u001b[0m \u001b[32m69.8/69.8 kB\u001b[0m \u001b[31m1.9 MB/s\u001b[0m eta \u001b[36m0:00:00\u001b[0m\n",
            "\u001b[?25hInstalling collected packages: imageai\n",
            "Successfully installed imageai-3.0.3\n"
          ]
        }
      ]
    },
    {
      "cell_type": "code",
      "source": [
        "!wget https://github.com/OlafenwaMoses/ImageAI/releases/download/essential-v1/yolo.h5\n",
        "\n",
        "from imageai.Detection import ObjectDetection\n",
        "import os\n",
        "\n",
        "detector = ObjectDetection()\n",
        "detector.setModelTypeAsYOLOv3()\n",
        "\n",
        "model_path = \"yolo.h5\"\n",
        "if os.path.exists(model_path):\n",
        "    detector.setModelPath(model_path)\n",
        "    detector.loadModel()\n",
        "else:\n",
        "    print(f\"Error: Model file '{model_path}' not found. Please ensure it was downloaded correctly.\")\n",
        "\n",
        "input_folder = \"images\"\n",
        "output_folder = \"labeled\"\n",
        "os.makedirs(input_folder, exist_ok=True)\n",
        "os.makedirs(output_folder, exist_ok=True)\n",
        "\n",
        "if not os.listdir(input_folder):\n",
        "    print(f\"'{input_folder}' folder is empty. Creating a dummy image for demonstration.\")\n",
        "    try:\n",
        "        from PIL import Image\n",
        "        img = Image.new('RGB', (60, 30), color = 'red')\n",
        "        img.save(os.path.join(input_folder, 'dummy_image.png'))\n",
        "    except ImportError:\n",
        "        print(\"Pillow not installed. Cannot create dummy image. Please add images to the 'images' folder manually.\")\n",
        "\n",
        "label_file_path = \"image_labels.txt\"\n",
        "label_file = open(label_file_path, \"w\")\n",
        "print(f\"Processing images in: {input_folder}\")\n",
        "for image_file in os.listdir(input_folder):\n",
        "    if image_file.lower().endswith((\".jpg\", \".jpeg\", \".png\")):\n",
        "        input_path = os.path.join(input_folder, image_file)\n",
        "        output_path = os.path.join(output_folder, \"labeled_\" + image_file)\n",
        "        try:\n",
        "            if detector.ObjectDetection_model_loaded:\n",
        "                detections = detector.detectObjectsFromImage(input_image=input_path,\n",
        "                                                             output_image_path=output_path,\n",
        "                                                             minimum_percentage_probability=60)\n",
        "\n",
        "                labels = [obj[\"name\"] for obj in detections]\n",
        "                label_file.write(f\"{image_file}: {', '.join(labels)}\\n\")\n",
        "                print(f\"Labeled: {image_file} → {labels}\")\n",
        "            else:\n",
        "                print(f\"Skipping detection for {image_file} as the model was not loaded.\")\n",
        "        except Exception as e:\n",
        "             print(f\"Error processing image {image_file}: {e}\")\n",
        "\n",
        "\n",
        "label_file.close()\n",
        "print(f\"✅ All images processed. Labels saved to {label_file_path}\")\n",
        "\n",
        "detector = ObjectDetection()\n",
        "detector.setModelTypeAsYOLOv3()\n",
        "\n",
        "model_path = \"yolo.h5\"\n",
        "if os.path.exists(model_path):\n",
        "    detector.setModelPath(model_path)\n",
        "    detector.loadModel()\n",
        "else:\n",
        "    print(f\"Error: Model file '{model_path}' not found. Please ensure it was downloaded correctly.\")\n",
        "\n",
        "input_folder = \"images\"\n",
        "output_folder = \"labeled\"\n",
        "os.makedirs(input_folder, exist_ok=True)\n",
        "os.makedirs(output_folder, exist_ok=True)\n",
        "\n",
        "if not os.listdir(input_folder):\n",
        "    print(f\"'{input_folder}' folder is empty. Creating a dummy image for demonstration.\")\n",
        "    try:\n",
        "        from PIL import Image\n",
        "        img = Image.new('RGB', (60, 30), color = 'red')\n",
        "        img.save(os.path.join(input_folder, 'dummy_image.png'))\n",
        "    except ImportError:\n",
        "        print(\"Pillow not installed. Cannot create dummy image. Please add images to the 'images' folder manually.\")\n",
        "\n",
        "label_file_path = \"image_labels.txt\"\n",
        "label_file = open(label_file_path, \"w\")\n",
        "print(f\"Processing images in: {input_folder}\")\n",
        "for image_file in os.listdir(input_folder):\n",
        "    if image_file.lower().endswith((\".jpg\", \".jpeg\", \".png\")):\n",
        "        input_path = os.path.join(input_folder, image_file)\n",
        "        output_path = os.path.join(output_folder, \"labeled_\" + image_file)\n",
        "        try:\n",
        "            if detector.ObjectDetection_model_loaded:\n",
        "                detections = detector.detectObjectsFromImage(input_image=input_path,\n",
        "                                                             output_image_path=output_path,\n",
        "                                                             minimum_percentage_probability=60)\n",
        "\n",
        "                labels = [obj[\"name\"] for obj in detections]\n",
        "                label_file.write(f\"{image_file}: {', '.join(labels)}\\n\")\n",
        "                print(f\"Labeled: {image_file} → {labels}\")\n",
        "            else:\n",
        "                print(f\"Skipping detection for {image_file} as the model was not loaded.\")\n",
        "        except Exception as e:\n",
        "             print(f\"Error processing image {image_file}: {e}\")\n",
        "\n",
        "\n",
        "label_file.close()\n",
        "print(f\"✅ All images processed. Labels saved to {label_file_path}\")"
      ],
      "metadata": {
        "colab": {
          "base_uri": "https://localhost:8080/"
        },
        "id": "z1dZ8adEVCCL",
        "outputId": "6321e9a9-97c1-4ae9-98c6-d5ac88b87050"
      },
      "execution_count": 9,
      "outputs": [
        {
          "output_type": "stream",
          "name": "stdout",
          "text": [
            "--2025-05-15 05:07:32--  https://github.com/OlafenwaMoses/ImageAI/releases/download/essential-v1/yolo.h5\n",
            "Resolving github.com (github.com)... 20.27.177.113\n",
            "Connecting to github.com (github.com)|20.27.177.113|:443... connected.\n",
            "HTTP request sent, awaiting response... 404 Not Found\n",
            "2025-05-15 05:07:33 ERROR 404: Not Found.\n",
            "\n",
            "Error: Model file 'yolo.h5' not found. Please ensure it was downloaded correctly.\n",
            "'images' folder is empty. Creating a dummy image for demonstration.\n",
            "Processing images in: images\n",
            "Error processing image dummy_image.png: 'ObjectDetection' object has no attribute 'ObjectDetection_model_loaded'\n",
            "✅ All images processed. Labels saved to image_labels.txt\n",
            "Error: Model file 'yolo.h5' not found. Please ensure it was downloaded correctly.\n",
            "Processing images in: images\n",
            "Error processing image dummy_image.png: 'ObjectDetection' object has no attribute 'ObjectDetection_model_loaded'\n",
            "✅ All images processed. Labels saved to image_labels.txt\n"
          ]
        }
      ]
    },
    {
      "cell_type": "markdown",
      "source": [
        "#Cat Dog"
      ],
      "metadata": {
        "id": "BvKC2_iaUSWk"
      }
    },
    {
      "cell_type": "code",
      "source": [
        "import os\n",
        "import zipfile\n",
        "import requests\n",
        "import shutil\n",
        "import numpy as np\n",
        "import matplotlib.pyplot as plt\n",
        "from tensorflow.keras.preprocessing.image import ImageDataGenerator\n",
        "from tensorflow.keras import layers, models\n",
        "\n",
        "# Step 1: Download and extract dataset\n",
        "url = \"https://storage.googleapis.com/mledu-datasets/cats_and_dogs_filtered.zip\"\n",
        "filename = \"cats_and_dogs_filtered.zip\"\n",
        "\n",
        "if not os.path.exists(filename):\n",
        "    print(\"Downloading dataset...\")\n",
        "    r = requests.get(url, stream=True)\n",
        "    with open(filename, \"wb\") as f:\n",
        "        shutil.copyfileobj(r.raw, f)\n",
        "    print(\"Download complete.\")\n",
        "\n",
        "with zipfile.ZipFile(filename, 'r') as zip_ref:\n",
        "    zip_ref.extractall()\n",
        "\n",
        "base_dir = \"cats_and_dogs_filtered\"\n",
        "train_dir = os.path.join(base_dir, 'train')\n",
        "val_dir = os.path.join(base_dir, 'validation')\n",
        "\n",
        "# Step 2: Image preprocessing\n",
        "train_gen = ImageDataGenerator(rescale=1.0/255)\n",
        "val_gen = ImageDataGenerator(rescale=1.0/255)\n",
        "\n",
        "train_data = train_gen.flow_from_directory(\n",
        "    train_dir, target_size=(150, 150), batch_size=20, class_mode='binary'\n",
        ")\n",
        "val_data = val_gen.flow_from_directory(\n",
        "    val_dir, target_size=(150, 150), batch_size=20, class_mode='binary'\n",
        ")\n",
        "\n",
        "# Step 3: Build the CNN model\n",
        "model = models.Sequential([\n",
        "    layers.Conv2D(32, (3, 3), activation='relu', input_shape=(150, 150, 3)),\n",
        "    layers.MaxPooling2D(2, 2),\n",
        "    layers.Conv2D(64, (3, 3), activation='relu'),\n",
        "    layers.MaxPooling2D(2, 2),\n",
        "    layers.Flatten(),\n",
        "    layers.Dense(512, activation='relu'),\n",
        "    layers.Dense(1, activation='sigmoid')\n",
        "])\n",
        "\n",
        "# Step 4: Compile and train the model\n",
        "model.compile(optimizer='adam', loss='binary_crossentropy', metrics=['accuracy'])\n",
        "\n",
        "history = model.fit(train_data, epochs=5, validation_data=val_data)\n",
        "\n",
        "# Step 5: Plot training history\n",
        "plt.plot(history.history['accuracy'], label='train acc')\n",
        "plt.plot(history.history['val_accuracy'], label='val acc')\n",
        "plt.title(\"Accuracy\")\n",
        "plt.legend()\n",
        "plt.show()"
      ],
      "metadata": {
        "colab": {
          "base_uri": "https://localhost:8080/",
          "height": 799
        },
        "id": "tmr8QwAIQ0-D",
        "outputId": "f5a45436-0604-40fb-ed5e-718ce2726b37"
      },
      "execution_count": 2,
      "outputs": [
        {
          "output_type": "stream",
          "name": "stdout",
          "text": [
            "Downloading dataset...\n",
            "Download complete.\n",
            "Found 2000 images belonging to 2 classes.\n",
            "Found 1000 images belonging to 2 classes.\n"
          ]
        },
        {
          "output_type": "stream",
          "name": "stderr",
          "text": [
            "/usr/local/lib/python3.11/dist-packages/keras/src/layers/convolutional/base_conv.py:107: UserWarning: Do not pass an `input_shape`/`input_dim` argument to a layer. When using Sequential models, prefer using an `Input(shape)` object as the first layer in the model instead.\n",
            "  super().__init__(activity_regularizer=activity_regularizer, **kwargs)\n"
          ]
        },
        {
          "output_type": "stream",
          "name": "stdout",
          "text": [
            "Epoch 1/5\n"
          ]
        },
        {
          "output_type": "stream",
          "name": "stderr",
          "text": [
            "/usr/local/lib/python3.11/dist-packages/keras/src/trainers/data_adapters/py_dataset_adapter.py:121: UserWarning: Your `PyDataset` class should call `super().__init__(**kwargs)` in its constructor. `**kwargs` can include `workers`, `use_multiprocessing`, `max_queue_size`. Do not pass these arguments to `fit()`, as they will be ignored.\n",
            "  self._warn_if_super_not_called()\n"
          ]
        },
        {
          "output_type": "stream",
          "name": "stdout",
          "text": [
            "\u001b[1m100/100\u001b[0m \u001b[32m━━━━━━━━━━━━━━━━━━━━\u001b[0m\u001b[37m\u001b[0m \u001b[1m136s\u001b[0m 1s/step - accuracy: 0.5042 - loss: 2.0443 - val_accuracy: 0.5070 - val_loss: 0.7938\n",
            "Epoch 2/5\n",
            "\u001b[1m100/100\u001b[0m \u001b[32m━━━━━━━━━━━━━━━━━━━━\u001b[0m\u001b[37m\u001b[0m \u001b[1m140s\u001b[0m 1s/step - accuracy: 0.6501 - loss: 0.6319 - val_accuracy: 0.6860 - val_loss: 0.5881\n",
            "Epoch 3/5\n",
            "\u001b[1m100/100\u001b[0m \u001b[32m━━━━━━━━━━━━━━━━━━━━\u001b[0m\u001b[37m\u001b[0m \u001b[1m149s\u001b[0m 1s/step - accuracy: 0.7651 - loss: 0.4856 - val_accuracy: 0.6680 - val_loss: 0.6225\n",
            "Epoch 4/5\n",
            "\u001b[1m100/100\u001b[0m \u001b[32m━━━━━━━━━━━━━━━━━━━━\u001b[0m\u001b[37m\u001b[0m \u001b[1m135s\u001b[0m 1s/step - accuracy: 0.8535 - loss: 0.3490 - val_accuracy: 0.6790 - val_loss: 0.6779\n",
            "Epoch 5/5\n",
            "\u001b[1m100/100\u001b[0m \u001b[32m━━━━━━━━━━━━━━━━━━━━\u001b[0m\u001b[37m\u001b[0m \u001b[1m142s\u001b[0m 1s/step - accuracy: 0.9382 - loss: 0.1779 - val_accuracy: 0.6750 - val_loss: 0.8121\n"
          ]
        },
        {
          "output_type": "display_data",
          "data": {
            "text/plain": [
              "<Figure size 640x480 with 1 Axes>"
            ],
            "image/png": "[encoded data removed]"
          },
          "metadata": {}
        }
      ]
    },
    {
      "cell_type": "code",
      "source": [
        "import os\n",
        "import numpy as np\n",
        "import matplotlib.pyplot as plt\n",
        "from tensorflow.keras.preprocessing.image import ImageDataGenerator\n",
        "from tensorflow.keras import layers, models\n",
        "\n",
        "# Step 1: Set local dataset paths\n",
        "base_dir = \"your_dataset\"  # Replace with your local dataset folder name\n",
        "train_dir = os.path.join(base_dir, 'train')\n",
        "val_dir = os.path.join(base_dir, 'validation')\n",
        "\n",
        "# Step 2: Image preprocessing\n",
        "train_gen = ImageDataGenerator(rescale=1.0/255)\n",
        "val_gen = ImageDataGenerator(rescale=1.0/255)\n",
        "\n",
        "train_data = train_gen.flow_from_directory(\n",
        "    train_dir, target_size=(150, 150), batch_size=20, class_mode='binary'\n",
        ")\n",
        "val_data = val_gen.flow_from_directory(\n",
        "    val_dir, target_size=(150, 150), batch_size=20, class_mode='binary'\n",
        ")\n",
        "\n",
        "# Step 3: Build the CNN model\n",
        "model = models.Sequential([\n",
        "    layers.Conv2D(32, (3, 3), activation='relu', input_shape=(150, 150, 3)),\n",
        "    layers.MaxPooling2D(2, 2),\n",
        "    layers.Conv2D(64, (3, 3), activation='relu'),\n",
        "    layers.MaxPooling2D(2, 2),\n",
        "    layers.Flatten(),\n",
        "    layers.Dense(512, activation='relu'),\n",
        "    layers.Dense(1, activation='sigmoid')\n",
        "])\n",
        "\n",
        "# Step 4: Compile and train the model\n",
        "model.compile(optimizer='adam', loss='binary_crossentropy', metrics=['accuracy'])\n",
        "\n",
        "history = model.fit(train_data, epochs=5, validation_data=val_data)\n",
        "\n",
        "# Step 5: Plot training history\n",
        "plt.plot(history.history['accuracy'], label='train acc')\n",
        "plt.plot(history.history['val_accuracy'], label='val acc')\n",
        "plt.title(\"Accuracy\")\n",
        "plt.legend()\n",
        "plt.show()"
      ],
      "metadata": {
        "colab": {
          "base_uri": "https://localhost:8080/",
          "height": 406
        },
        "id": "R8NTHWBMUHzo",
        "outputId": "a1fedac5-ca09-4ddc-8eeb-9fd2d51c8d74"
      },
      "execution_count": 4,
      "outputs": [
        {
          "output_type": "error",
          "ename": "FileNotFoundError",
          "evalue": "[Errno 2] No such file or directory: 'your_dataset/train'",
          "traceback": [
            "\u001b[0;31m---------------------------------------------------------------------------\u001b[0m",
            "\u001b[0;31mFileNotFoundError\u001b[0m                         Traceback (most recent call last)",
            "\u001b[0;32m<ipython-input-4-dd350eaeceee>\u001b[0m in \u001b[0;36m<cell line: 0>\u001b[0;34m()\u001b[0m\n\u001b[1;32m     14\u001b[0m \u001b[0mval_gen\u001b[0m \u001b[0;34m=\u001b[0m \u001b[0mImageDataGenerator\u001b[0m\u001b[0;34m(\u001b[0m\u001b[0mrescale\u001b[0m\u001b[0;34m=\u001b[0m\u001b[0;36m1.0\u001b[0m\u001b[0;34m/\u001b[0m\u001b[0;36m255\u001b[0m\u001b[0;34m)\u001b[0m\u001b[0;34m\u001b[0m\u001b[0;34m\u001b[0m\u001b[0m\n\u001b[1;32m     15\u001b[0m \u001b[0;34m\u001b[0m\u001b[0m\n\u001b[0;32m---> 16\u001b[0;31m train_data = train_gen.flow_from_directory(\n\u001b[0m\u001b[1;32m     17\u001b[0m     \u001b[0mtrain_dir\u001b[0m\u001b[0;34m,\u001b[0m \u001b[0mtarget_size\u001b[0m\u001b[0;34m=\u001b[0m\u001b[0;34m(\u001b[0m\u001b[0;36m150\u001b[0m\u001b[0;34m,\u001b[0m \u001b[0;36m150\u001b[0m\u001b[0;34m)\u001b[0m\u001b[0;34m,\u001b[0m \u001b[0mbatch_size\u001b[0m\u001b[0;34m=\u001b[0m\u001b[0;36m20\u001b[0m\u001b[0;34m,\u001b[0m \u001b[0mclass_mode\u001b[0m\u001b[0;34m=\u001b[0m\u001b[0;34m'binary'\u001b[0m\u001b[0;34m\u001b[0m\u001b[0;34m\u001b[0m\u001b[0m\n\u001b[1;32m     18\u001b[0m )\n",
            "\u001b[0;32m/usr/local/lib/python3.11/dist-packages/keras/src/legacy/preprocessing/image.py\u001b[0m in \u001b[0;36mflow_from_directory\u001b[0;34m(self, directory, target_size, color_mode, classes, class_mode, batch_size, shuffle, seed, save_to_dir, save_prefix, save_format, follow_links, subset, interpolation, keep_aspect_ratio)\u001b[0m\n\u001b[1;32m   1136\u001b[0m         \u001b[0mkeep_aspect_ratio\u001b[0m\u001b[0;34m=\u001b[0m\u001b[0;32mFalse\u001b[0m\u001b[0;34m,\u001b[0m\u001b[0;34m\u001b[0m\u001b[0;34m\u001b[0m\u001b[0m\n\u001b[1;32m   1137\u001b[0m     ):\n\u001b[0;32m-> 1138\u001b[0;31m         return DirectoryIterator(\n\u001b[0m\u001b[1;32m   1139\u001b[0m             \u001b[0mdirectory\u001b[0m\u001b[0;34m,\u001b[0m\u001b[0;34m\u001b[0m\u001b[0;34m\u001b[0m\u001b[0m\n\u001b[1;32m   1140\u001b[0m             \u001b[0mself\u001b[0m\u001b[0;34m,\u001b[0m\u001b[0;34m\u001b[0m\u001b[0;34m\u001b[0m\u001b[0m\n",
            "\u001b[0;32m/usr/local/lib/python3.11/dist-packages/keras/src/legacy/preprocessing/image.py\u001b[0m in \u001b[0;36m__init__\u001b[0;34m(self, directory, image_data_generator, target_size, color_mode, classes, class_mode, batch_size, shuffle, seed, data_format, save_to_dir, save_prefix, save_format, follow_links, subset, interpolation, keep_aspect_ratio, dtype)\u001b[0m\n\u001b[1;32m    451\u001b[0m         \u001b[0;32mif\u001b[0m \u001b[0;32mnot\u001b[0m \u001b[0mclasses\u001b[0m\u001b[0;34m:\u001b[0m\u001b[0;34m\u001b[0m\u001b[0;34m\u001b[0m\u001b[0m\n\u001b[1;32m    452\u001b[0m             \u001b[0mclasses\u001b[0m \u001b[0;34m=\u001b[0m \u001b[0;34m[\u001b[0m\u001b[0;34m]\u001b[0m\u001b[0;34m\u001b[0m\u001b[0;34m\u001b[0m\u001b[0m\n\u001b[0;32m--> 453\u001b[0;31m             \u001b[0;32mfor\u001b[0m \u001b[0msubdir\u001b[0m \u001b[0;32min\u001b[0m \u001b[0msorted\u001b[0m\u001b[0;34m(\u001b[0m\u001b[0mos\u001b[0m\u001b[0;34m.\u001b[0m\u001b[0mlistdir\u001b[0m\u001b[0;34m(\u001b[0m\u001b[0mdirectory\u001b[0m\u001b[0;34m)\u001b[0m\u001b[0;34m)\u001b[0m\u001b[0;34m:\u001b[0m\u001b[0;34m\u001b[0m\u001b[0;34m\u001b[0m\u001b[0m\n\u001b[0m\u001b[1;32m    454\u001b[0m                 \u001b[0;32mif\u001b[0m \u001b[0mos\u001b[0m\u001b[0;34m.\u001b[0m\u001b[0mpath\u001b[0m\u001b[0;34m.\u001b[0m\u001b[0misdir\u001b[0m\u001b[0;34m(\u001b[0m\u001b[0mos\u001b[0m\u001b[0;34m.\u001b[0m\u001b[0mpath\u001b[0m\u001b[0;34m.\u001b[0m\u001b[0mjoin\u001b[0m\u001b[0;34m(\u001b[0m\u001b[0mdirectory\u001b[0m\u001b[0;34m,\u001b[0m \u001b[0msubdir\u001b[0m\u001b[0;34m)\u001b[0m\u001b[0;34m)\u001b[0m\u001b[0;34m:\u001b[0m\u001b[0;34m\u001b[0m\u001b[0;34m\u001b[0m\u001b[0m\n\u001b[1;32m    455\u001b[0m                     \u001b[0mclasses\u001b[0m\u001b[0;34m.\u001b[0m\u001b[0mappend\u001b[0m\u001b[0;34m(\u001b[0m\u001b[0msubdir\u001b[0m\u001b[0;34m)\u001b[0m\u001b[0;34m\u001b[0m\u001b[0;34m\u001b[0m\u001b[0m\n",
            "\u001b[0;31mFileNotFoundError\u001b[0m: [Errno 2] No such file or directory: 'your_dataset/train'"
          ]
        }
      ]
    },
    {
      "cell_type": "markdown",
      "source": [
        "#NNC"
      ],
      "metadata": {
        "id": "nWbjRxWzUZdH"
      }
    },
    {
      "cell_type": "code",
      "source": [
        "import numpy as np\n",
        "\n",
        "# Sigmoid function and its derivative\n",
        "def sigmoid(x):\n",
        "    return 1 / (1 + np.exp(-x))\n",
        "\n",
        "def sigmoid_derivative(x):\n",
        "    s = sigmoid(x)\n",
        "    return s * (1 - s)\n",
        "\n",
        "# Cost function\n",
        "def compute_cost(y_true, y_pred, Theta1, Theta2, lambda_=0):\n",
        "    m = len(y_true)\n",
        "    cost = -np.sum(y_true * np.log(y_pred) + (1 - y_true) * np.log(1 - y_pred)) / m\n",
        "    reg = lambda_ / (2 * m) * (np.sum(Theta1[:,1:]*2) + np.sum(Theta2[:,1:]*2))\n",
        "    return cost + reg\n",
        "\n",
        "# Input (XOR) data\n",
        "X = np.array([[0,0],[0,1],[1,0],[1,1]])\n",
        "y = np.array([[0],[1],[1],[0]])\n",
        "\n",
        "# Add bias term\n",
        "X_bias = np.hstack([np.ones((X.shape[0], 1)), X])\n",
        "\n",
        "# Initialize weights\n",
        "np.random.seed(0)\n",
        "Theta1 = np.random.rand(3, 3)  # 3 neurons in hidden layer, 2 inputs + bias\n",
        "Theta2 = np.random.rand(1, 4)  # 1 output neuron, 3 hidden + bias\n",
        "\n",
        "# Forward pass\n",
        "z2 = X_bias @ Theta1.T\n",
        "a2 = sigmoid(z2)\n",
        "a2_bias = np.hstack([np.ones((a2.shape[0], 1)), a2])\n",
        "z3 = a2_bias @ Theta2.T\n",
        "y_pred = sigmoid(z3)\n",
        "\n",
        "# Compute unregularized and regularized costs\n",
        "cost_unreg = compute_cost(y, y_pred, Theta1, Theta2, lambda_=0)\n",
        "cost_reg = compute_cost(y, y_pred, Theta1, Theta2, lambda_=1)\n",
        "\n",
        "# Backpropagation (basic version)\n",
        "d3 = y_pred - y\n",
        "d2 = d3 @ Theta2[:,1:] * sigmoid_derivative(z2)\n",
        "\n",
        "Delta1 = d2.T @ X_bias\n",
        "Delta2 = d3.T @ a2_bias\n",
        "\n",
        "# Gradients (with and without regularization)\n",
        "Theta1_grad_unreg = Delta1 / len(y)\n",
        "Theta2_grad_unreg = Delta2 / len(y)\n",
        "\n",
        "Theta1_grad_reg = Theta1_grad_unreg.copy()\n",
        "Theta2_grad_reg = Theta2_grad_unreg.copy()\n",
        "Theta1_grad_reg[:,1:] += (1 / len(y)) * Theta1[:,1:]\n",
        "Theta2_grad_reg[:,1:] += (1 / len(y)) * Theta2[:,1:]\n",
        "\n",
        "# Prediction\n",
        "predicted = (y_pred >= 0.5).astype(int)\n",
        "\n",
        "# Output\n",
        "print(\"🔹 Unregularized Cost:\", round(cost_unreg, 3))\n",
        "print(\"🔹 Regularized Cost:  \", round(cost_reg, 3))\n",
        "print(\"🔹 Gradients Norm (Unreg):\", round(np.linalg.norm(Theta1_grad_unreg), 3))\n",
        "print(\"🔹 Gradients Norm (Reg):  \", round(np.linalg.norm(Theta1_grad_reg), 3))\n",
        "\n",
        "print(\"\\n✅ Predictions (Expected vs Got):\")\n",
        "for i in range(len(X)):\n",
        "    print(f\"Input: {X[i]} → Expected: {y[i][0]} | Got: {predicted[i][0]}\")"
      ],
      "metadata": {
        "colab": {
          "base_uri": "https://localhost:8080/"
        },
        "id": "tIsxdqnfRW-1",
        "outputId": "4826f735-dd8c-4f15-b47b-0f6e316ecbdb"
      },
      "execution_count": 3,
      "outputs": [
        {
          "output_type": "stream",
          "name": "stdout",
          "text": [
            "🔹 Unregularized Cost: 1.05\n",
            "🔹 Regularized Cost:   2.583\n",
            "🔹 Gradients Norm (Unreg): 0.074\n",
            "🔹 Gradients Norm (Reg):   0.479\n",
            "\n",
            "✅ Predictions (Expected vs Got):\n",
            "Input: [0 0] → Expected: 0 | Got: 1\n",
            "Input: [0 1] → Expected: 1 | Got: 1\n",
            "Input: [1 0] → Expected: 1 | Got: 1\n",
            "Input: [1 1] → Expected: 0 | Got: 1\n"
          ]
        }
      ]
    }
  ]
}