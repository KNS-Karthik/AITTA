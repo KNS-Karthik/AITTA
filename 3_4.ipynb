{
  "nbformat": 4,
  "nbformat_minor": 0,
  "metadata": {
    "colab": {
      "provenance": [],
      "authorship_tag": "ABX9TyPWc0OB2IsobaVzlCQqTeHF",
      "include_colab_link": true
    },
    "kernelspec": {
      "name": "python3",
      "display_name": "Python 3"
    },
    "language_info": {
      "name": "python"
    }
  },
  "cells": [
    {
      "cell_type": "markdown",
      "metadata": {
        "id": "view-in-github",
        "colab_type": "text"
      },
      "source": [
        "<a href=\"https://colab.research.google.com/github/KNS-Karthik/AITTA/blob/main/3_4.ipynb\" target=\"_parent\"><img src=\"https://colab.research.google.com/assets/colab-badge.svg\" alt=\"Open In Colab\"/></a>"
      ]
    },
    {
      "cell_type": "code",
      "execution_count": 1,
      "metadata": {
        "colab": {
          "base_uri": "https://localhost:8080/"
        },
        "id": "02ev8J77Qlnm",
        "outputId": "ad48fa48-5f6f-4d1e-c321-2d2045a4e6ff"
      },
      "outputs": [
        {
          "output_type": "stream",
          "name": "stdout",
          "text": [
            "Cloning into 'AITTA'...\n",
            "remote: Enumerating objects: 26, done.\u001b[K\n",
            "remote: Counting objects: 100% (26/26), done.\u001b[K\n",
            "remote: Compressing objects: 100% (24/24), done.\u001b[K\n",
            "remote: Total 26 (delta 7), reused 0 (delta 0), pack-reused 0 (from 0)\u001b[K\n",
            "Receiving objects: 100% (26/26), 579.41 KiB | 2.53 MiB/s, done.\n",
            "Resolving deltas: 100% (7/7), done.\n"
          ]
        }
      ],
      "source": [
        "!git clone https://github.com/KNS-Karthik/AITTA.git"
      ]
    },
    {
      "cell_type": "markdown",
      "source": [
        "#Data label"
      ],
      "metadata": {
        "id": "6M2AYBSlU8qT"
      }
    },
    {
      "cell_type": "code",
      "source": [
        "%pip install ultralytics\n",
        "import ultralytics\n",
        "ultralytics.checks()\n",
        "\n",
        "from google.colab import files\n",
        "files.upload()\n",
        "\n",
        "!yolo predict model=yolov8n.pt source=\"/content/4.jpg\"\n",
        "\n",
        "\n",
        "import matplotlib.pyplot as plt\n",
        "plt.figure(figsize=(8, 6))\n",
        "img1 = plt.imread('/content/4.jpg')\n",
        "plt.imshow(img1)\n",
        "plt.show\n",
        "\n",
        "\n",
        "import torch\n",
        "torch.hub.download_url_to_file('https://ultralytics.com/assets/coco2017val.zip', 'tmp.zip')\n",
        "!unzip -q tmp.zip -d datasets && rm tmp.zip\n",
        "!yolo val model=yolov8n.pt data=coco8.yaml\n",
        "\n",
        "import matplotlib.pyplot as plt\n",
        "plt.figure(figsize=(6, 6))\n",
        "img = plt.imread('/content/runs/detect/predict/4.jpg')\n",
        "plt.imshow(img)\n",
        "plt.show"
      ],
      "metadata": {
        "id": "r3Axls0ren61"
      },
      "execution_count": null,
      "outputs": []
    },
    {
      "cell_type": "markdown",
      "source": [
        "#Cat Dog"
      ],
      "metadata": {
        "id": "BvKC2_iaUSWk"
      }
    },
    {
      "cell_type": "code",
      "source": [
        "import os, zipfile, requests, shutil, matplotlib.pyplot as plt\n",
        "from tensorflow.keras.preprocessing.image import ImageDataGenerator\n",
        "from tensorflow.keras import layers, models\n",
        "\n",
        "# Download & extract dataset\n",
        "url = \"https://storage.googleapis.com/mledu-datasets/cats_and_dogs_filtered.zip\"\n",
        "fname = \"cats_and_dogs_filtered.zip\"\n",
        "if not os.path.exists(fname):\n",
        "    with open(fname, \"wb\") as f: shutil.copyfileobj(requests.get(url, stream=True).raw, f)\n",
        "with zipfile.ZipFile(fname, 'r') as zip_ref: zip_ref.extractall()\n",
        "\n",
        "# Data loaders\n",
        "gen = ImageDataGenerator(rescale=1./255)\n",
        "train = gen.flow_from_directory(\"cats_and_dogs_filtered/train\", target_size=(150,150), batch_size=20, class_mode='binary')\n",
        "val = gen.flow_from_directory(\"cats_and_dogs_filtered/validation\", target_size=(150,150), batch_size=20, class_mode='binary')\n",
        "\n",
        "# Model\n",
        "model = models.Sequential([\n",
        "    layers.Conv2D(32, (3,3), activation='relu', input_shape=(150,150,3)),\n",
        "    layers.MaxPooling2D(2,2),\n",
        "    layers.Conv2D(64, (3,3), activation='relu'),\n",
        "    layers.MaxPooling2D(2,2),\n",
        "    layers.Flatten(),\n",
        "    layers.Dense(512, activation='relu'),\n",
        "    layers.Dense(1, activation='sigmoid')\n",
        "])\n",
        "model.compile(optimizer='adam', loss='binary_crossentropy', metrics=['accuracy'])\n",
        "hist = model.fit(train, epochs=2, validation_data=val)\n",
        "\n",
        "# Plot\n",
        "plt.plot(hist.history['accuracy'], label='train'), plt.plot(hist.history['val_accuracy'], label='val')\n",
        "plt.legend(), plt.title(\"Accuracy\"), plt.show()\n"
      ],
      "metadata": {
        "colab": {
          "base_uri": "https://localhost:8080/",
          "height": 708
        },
        "id": "tmr8QwAIQ0-D",
        "outputId": "d0f98188-30ad-4a45-a83c-566119cdf145"
      },
      "execution_count": 12,
      "outputs": [
        {
          "output_type": "stream",
          "name": "stdout",
          "text": [
            "Found 2000 images belonging to 2 classes.\n",
            "Found 1000 images belonging to 2 classes.\n"
          ]
        },
        {
          "output_type": "stream",
          "name": "stderr",
          "text": [
            "/usr/local/lib/python3.11/dist-packages/keras/src/layers/convolutional/base_conv.py:107: UserWarning: Do not pass an `input_shape`/`input_dim` argument to a layer. When using Sequential models, prefer using an `Input(shape)` object as the first layer in the model instead.\n",
            "  super().__init__(activity_regularizer=activity_regularizer, **kwargs)\n"
          ]
        },
        {
          "output_type": "stream",
          "name": "stdout",
          "text": [
            "Epoch 1/2\n"
          ]
        },
        {
          "output_type": "stream",
          "name": "stderr",
          "text": [
            "/usr/local/lib/python3.11/dist-packages/keras/src/trainers/data_adapters/py_dataset_adapter.py:121: UserWarning: Your `PyDataset` class should call `super().__init__(**kwargs)` in its constructor. `**kwargs` can include `workers`, `use_multiprocessing`, `max_queue_size`. Do not pass these arguments to `fit()`, as they will be ignored.\n",
            "  self._warn_if_super_not_called()\n"
          ]
        },
        {
          "output_type": "stream",
          "name": "stdout",
          "text": [
            "\u001b[1m100/100\u001b[0m \u001b[32m━━━━━━━━━━━━━━━━━━━━\u001b[0m\u001b[37m\u001b[0m \u001b[1m142s\u001b[0m 1s/step - accuracy: 0.5216 - loss: 1.6146 - val_accuracy: 0.5550 - val_loss: 0.6736\n",
            "Epoch 2/2\n",
            "\u001b[1m100/100\u001b[0m \u001b[32m━━━━━━━━━━━━━━━━━━━━\u001b[0m\u001b[37m\u001b[0m \u001b[1m133s\u001b[0m 1s/step - accuracy: 0.6709 - loss: 0.6226 - val_accuracy: 0.6750 - val_loss: 0.6100\n"
          ]
        },
        {
          "output_type": "display_data",
          "data": {
            "text/plain": [
              "<Figure size 640x480 with 1 Axes>"
            ],
            "image/png": "[encoded data removed]"
          },
          "metadata": {}
        },
        {
          "output_type": "execute_result",
          "data": {
            "text/plain": [
              "(<matplotlib.legend.Legend at 0x7e2210165d10>,\n",
              " Text(0.5, 1.0, 'Accuracy'),\n",
              " None)"
            ]
          },
          "metadata": {},
          "execution_count": 12
        }
      ]
    },
    {
      "cell_type": "markdown",
      "source": [
        "#NNC"
      ],
      "metadata": {
        "id": "nWbjRxWzUZdH"
      }
    },
    {
      "cell_type": "code",
      "source": [
        "import numpy as np\n",
        "\n",
        "# Sigmoid function and its derivative\n",
        "def sigmoid(x):\n",
        "    return 1 / (1 + np.exp(-x))\n",
        "\n",
        "def sigmoid_derivative(x):\n",
        "    s = sigmoid(x)\n",
        "    return s * (1 - s)\n",
        "\n",
        "# Cost function\n",
        "def compute_cost(y_true, y_pred, Theta1, Theta2, lambda_=0):\n",
        "    m = len(y_true)\n",
        "    cost = -np.sum(y_true * np.log(y_pred) + (1 - y_true) * np.log(1 - y_pred)) / m\n",
        "    reg = lambda_ / (2 * m) * (np.sum(Theta1[:,1:]*2) + np.sum(Theta2[:,1:]*2))\n",
        "    return cost + reg\n",
        "\n",
        "# Input (XOR) data\n",
        "X = np.array([[0,0],[0,1],[1,0],[1,1]])\n",
        "y = np.array([[0],[1],[1],[0]])\n",
        "\n",
        "# Add bias term\n",
        "X_bias = np.hstack([np.ones((X.shape[0], 1)), X])\n",
        "\n",
        "# Initialize weights\n",
        "np.random.seed(0)\n",
        "Theta1 = np.random.rand(3, 3)  # 3 neurons in hidden layer, 2 inputs + bias\n",
        "Theta2 = np.random.rand(1, 4)  # 1 output neuron, 3 hidden + bias\n",
        "\n",
        "# Forward pass\n",
        "z2 = X_bias @ Theta1.T\n",
        "a2 = sigmoid(z2)\n",
        "a2_bias = np.hstack([np.ones((a2.shape[0], 1)), a2])\n",
        "z3 = a2_bias @ Theta2.T\n",
        "y_pred = sigmoid(z3)\n",
        "\n",
        "# Compute unregularized and regularized costs\n",
        "cost_unreg = compute_cost(y, y_pred, Theta1, Theta2, lambda_=0)\n",
        "cost_reg = compute_cost(y, y_pred, Theta1, Theta2, lambda_=1)\n",
        "\n",
        "# Backpropagation (basic version)\n",
        "d3 = y_pred - y\n",
        "d2 = d3 @ Theta2[:,1:] * sigmoid_derivative(z2)\n",
        "\n",
        "Delta1 = d2.T @ X_bias\n",
        "Delta2 = d3.T @ a2_bias\n",
        "\n",
        "# Gradients (with and without regularization)\n",
        "Theta1_grad_unreg = Delta1 / len(y)\n",
        "Theta2_grad_unreg = Delta2 / len(y)\n",
        "\n",
        "Theta1_grad_reg = Theta1_grad_unreg.copy()\n",
        "Theta2_grad_reg = Theta2_grad_unreg.copy()\n",
        "Theta1_grad_reg[:,1:] += (1 / len(y)) * Theta1[:,1:]\n",
        "Theta2_grad_reg[:,1:] += (1 / len(y)) * Theta2[:,1:]\n",
        "\n",
        "# Prediction\n",
        "predicted = (y_pred >= 0.5).astype(int)\n",
        "\n",
        "# Output\n",
        "print(\"🔹 Unregularized Cost:\", round(cost_unreg, 3))\n",
        "print(\"🔹 Regularized Cost:  \", round(cost_reg, 3))\n",
        "print(\"🔹 Gradients Norm (Unreg):\", round(np.linalg.norm(Theta1_grad_unreg), 3))\n",
        "print(\"🔹 Gradients Norm (Reg):  \", round(np.linalg.norm(Theta1_grad_reg), 3))\n",
        "\n",
        "print(\"\\n✅ Predictions (Expected vs Got):\")\n",
        "for i in range(len(X)):\n",
        "    print(f\"Input: {X[i]} → Expected: {y[i][0]} | Got: {predicted[i][0]}\")"
      ],
      "metadata": {
        "colab": {
          "base_uri": "https://localhost:8080/"
        },
        "id": "tIsxdqnfRW-1",
        "outputId": "4826f735-dd8c-4f15-b47b-0f6e316ecbdb"
      },
      "execution_count": 3,
      "outputs": [
        {
          "output_type": "stream",
          "name": "stdout",
          "text": [
            "🔹 Unregularized Cost: 1.05\n",
            "🔹 Regularized Cost:   2.583\n",
            "🔹 Gradients Norm (Unreg): 0.074\n",
            "🔹 Gradients Norm (Reg):   0.479\n",
            "\n",
            "✅ Predictions (Expected vs Got):\n",
            "Input: [0 0] → Expected: 0 | Got: 1\n",
            "Input: [0 1] → Expected: 1 | Got: 1\n",
            "Input: [1 0] → Expected: 1 | Got: 1\n",
            "Input: [1 1] → Expected: 0 | Got: 1\n"
          ]
        }
      ]
    }
  ]
}